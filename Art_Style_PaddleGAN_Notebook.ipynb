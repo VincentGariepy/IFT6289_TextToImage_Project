{
  "nbformat": 4,
  "nbformat_minor": 0,
  "metadata": {
    "colab": {
      "name": "Art_Style_PaddleGAN",
      "provenance": [],
      "collapsed_sections": []
    },
    "kernelspec": {
      "name": "python3",
      "display_name": "Python 3"
    },
    "language_info": {
      "name": "python"
    },
    "accelerator": "GPU"
  },
  "cells": [
    {
      "cell_type": "code",
      "execution_count": null,
      "metadata": {
        "id": "Z5kPvQ0eWaOO"
      },
      "outputs": [],
      "source": [
        "# Import the PaddleGan Library\n",
        "!git clone https://github.com/PaddlePaddle/PaddleGAN"
      ]
    },
    {
      "cell_type": "code",
      "source": [
        "cd PaddleGAN/"
      ],
      "metadata": {
        "id": "QMLBh4zhWc4X"
      },
      "execution_count": null,
      "outputs": []
    },
    {
      "cell_type": "code",
      "source": [
        "# Install all the requirements for PaddleGan to be used\n",
        "!pip install -r requirements.txt\n",
        "!pip install paddlepaddle"
      ],
      "metadata": {
        "id": "YT8Dp5l8Wef_"
      },
      "execution_count": null,
      "outputs": []
    },
    {
      "cell_type": "code",
      "source": [
        "# Import paddle and check its runability\n",
        "import paddle\n",
        "paddle.utils.run_check()\n",
        "\n",
        "# Set the different parameters used by the models\n",
        "PATH_OF_CONTENT_IMG = '../Images/télécharger.png'\n",
        "PATH_OF_STYLE_IMG = '../Style_Images/stars.png'\n",
        "OUTPUT_PATH = '../Output/'\n",
        "STYLE = 'stars'"
      ],
      "metadata": {
        "id": "NaIgmhOAWnmk"
      },
      "execution_count": null,
      "outputs": []
    },
    {
      "cell_type": "code",
      "source": [
        "# Use the model, returns a stylized image\n",
        "!python applications/tools/lapstyle.py --content_img_path {PATH_OF_CONTENT_IMG} --style_image_path {PATH_OF_STYLE_IMG} --style {STYLE} --output_path {OUTPUT_PATH}"
      ],
      "metadata": {
        "id": "_cX_ESZZWqeU"
      },
      "execution_count": null,
      "outputs": []
    }
  ]
}