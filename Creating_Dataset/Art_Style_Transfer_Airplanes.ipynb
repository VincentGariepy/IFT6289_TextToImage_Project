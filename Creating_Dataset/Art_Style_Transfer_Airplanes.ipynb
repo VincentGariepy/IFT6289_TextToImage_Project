{
  "nbformat": 4,
  "nbformat_minor": 0,
  "metadata": {
    "colab": {
      "name": "Art_Style_Transfer_Airplanes",
      "provenance": [],
      "authorship_tag": "ABX9TyMQte1WbhKbX8n2gozTVC/P",
      "include_colab_link": true
    },
    "kernelspec": {
      "name": "python3",
      "display_name": "Python 3"
    },
    "language_info": {
      "name": "python"
    }
  },
  "cells": [
    {
      "cell_type": "markdown",
      "metadata": {
        "id": "view-in-github",
        "colab_type": "text"
      },
      "source": [
        "<a href=\"https://colab.research.google.com/github/VincentGariepy/IFT6289_TextToImage_Project/blob/main/Art_Style_Transfer_Airplanes.ipynb\" target=\"_parent\"><img src=\"https://colab.research.google.com/assets/colab-badge.svg\" alt=\"Open In Colab\"/></a>"
      ]
    },
    {
      "cell_type": "markdown",
      "source": [
        "\n",
        "First create a folder named 'COCOdataset2017' then inside that folder one more folders named : 'annotations'\n"
      ],
      "metadata": {
        "id": "uxL-lx08WoIp"
      }
    },
    {
      "cell_type": "code",
      "execution_count": null,
      "metadata": {
        "id": "50tlR2WyWP6-"
      },
      "outputs": [],
      "source": [
        "!wget http://images.cocodataset.org/annotations/annotations_trainval2017.zip"
      ]
    },
    {
      "cell_type": "code",
      "source": [
        "!unzip New_Images_Airplanes.zip -d New_images_Airplanes"
      ],
      "metadata": {
        "id": "tkwnwTjFRnAX"
      },
      "execution_count": null,
      "outputs": []
    },
    {
      "cell_type": "code",
      "source": [
        "!unzip annotations_trainval2017.zip -d COCOdataset2017"
      ],
      "metadata": {
        "id": "cwAzTQ9IQ4bY"
      },
      "execution_count": null,
      "outputs": []
    },
    {
      "cell_type": "code",
      "source": [
        "!rm -rf annotations_trainval2017.zip"
      ],
      "metadata": {
        "id": "tzTEInBsQ5zc"
      },
      "execution_count": null,
      "outputs": []
    },
    {
      "cell_type": "code",
      "source": [
        "!rm -rf New_Images_Airplanes.zip"
      ],
      "metadata": {
        "id": "v6mBKqrfSMhd"
      },
      "execution_count": null,
      "outputs": []
    },
    {
      "cell_type": "code",
      "source": [
        "!git clone https://github.com/PaddlePaddle/PaddleGAN"
      ],
      "metadata": {
        "id": "w05eiEVAG8Gk"
      },
      "execution_count": null,
      "outputs": []
    },
    {
      "cell_type": "code",
      "source": [
        "!mv COCO_Airplanes_Art_style_transfer.py PaddleGAN/\n",
        "!mv captions_val2017_planes2.json PaddleGAN/\n",
        "!mv COCOdataset2017 PaddleGAN/"
      ],
      "metadata": {
        "id": "Ck627hXKqQdg"
      },
      "execution_count": null,
      "outputs": []
    },
    {
      "cell_type": "code",
      "source": [
        "cd PaddleGAN/"
      ],
      "metadata": {
        "id": "7ZbNcx2cOj-5"
      },
      "execution_count": null,
      "outputs": []
    },
    {
      "cell_type": "code",
      "source": [
        "!pip install -r requirements.txt"
      ],
      "metadata": {
        "id": "4H998ICbOibt"
      },
      "execution_count": null,
      "outputs": []
    },
    {
      "cell_type": "code",
      "source": [
        "!pip install paddlepaddle"
      ],
      "metadata": {
        "id": "i49bx_YMOhDr"
      },
      "execution_count": null,
      "outputs": []
    },
    {
      "cell_type": "code",
      "source": [
        "import paddle\n",
        "\n",
        "paddle.utils.run_check()"
      ],
      "metadata": {
        "id": "UwadXfXQHGgC"
      },
      "execution_count": null,
      "outputs": []
    },
    {
      "cell_type": "markdown",
      "source": [
        "Create three folders : Style_Images with the style images and Output, as well as New_Art_Airplanes for the new images."
      ],
      "metadata": {
        "id": "-9Us9Pvmvmey"
      }
    },
    {
      "cell_type": "code",
      "source": [
        "PATH_OF_CONTENT_IMG = '../images/000000000081.jpg'\n",
        "PATH_OF_STYLE_IMG = '../Style_Images/stars.png'\n",
        "OUTPUT_PATH = '../Output/'\n",
        "STYLE = 'stars'"
      ],
      "metadata": {
        "id": "Wg5q2JvOOGob"
      },
      "execution_count": null,
      "outputs": []
    },
    {
      "cell_type": "code",
      "source": [
        "!python COCO_Airplanes_Art_style_transfer.py --content_img_path {PATH_OF_CONTENT_IMG} --style_image_path {PATH_OF_STYLE_IMG} --style {STYLE} --output_path {OUTPUT_PATH}"
      ],
      "metadata": {
        "id": "3V1mlmn9dmof"
      },
      "execution_count": null,
      "outputs": []
    },
    {
      "cell_type": "code",
      "source": [
        "!zip -r /content/New_Art_Airplanes2.zip /content/New_Art_Airplanes2"
      ],
      "metadata": {
        "id": "b-Pr_F7bPR71"
      },
      "execution_count": null,
      "outputs": []
    }
  ]
}
